{
 "cells": [
  {
   "cell_type": "code",
   "execution_count": 1,
   "metadata": {},
   "outputs": [],
   "source": [
    "import pandas as pd\n",
    "import numpy as np\n",
    "\n",
    "import matplotlib.pyplot as plt\n",
    "import seaborn as sns\n",
    "\n",
    "from sklearn.preprocessing import OneHotEncoder, StandardScaler\n",
    "\n",
    "from sklearn.impute import MissingIndicator, SimpleImputer\n",
    "\n",
    "from sklearn.dummy import DummyClassifier\n",
    "from sklearn.linear_model import LogisticRegression\n",
    "from sklearn.ensemble import RandomForestClassifier\n",
    "\n",
    "from sklearn.model_selection import train_test_split, cross_val_score\n",
    "from sklearn.feature_selection import SelectFromModel\n",
    "\n",
    "# plot_confusion_matrix is a handy visual tool, added in the latest version of scikit-learn\n",
    "# if you are running an older version, comment out this line and just use confusion_matrix\n",
    "from sklearn.metrics import plot_confusion_matrix\n",
    "from sklearn.metrics import confusion_matrix"
   ]
  },
  {
   "cell_type": "code",
   "execution_count": 2,
   "metadata": {},
   "outputs": [],
   "source": [
    "df = pd.read_csv('../../Data/music_subset.csv')"
   ]
  },
  {
   "cell_type": "code",
   "execution_count": 3,
   "metadata": {},
   "outputs": [],
   "source": [
    "def encode_and_concat_feature(X, feature_name, ohe):\n",
    "    \"\"\"\n",
    "    Helper function for transforming a feature into multiple columns of 1s and 0s. Used\n",
    "    in both training and testing steps.  Takes in the full X dataframe, feature name, \n",
    "    and encoder, and returns the dataframe with that feature transformed into multiple\n",
    "    columns of 1s and 0s\n",
    "    \"\"\"\n",
    "    # create new one-hot encoded df based on the feature\n",
    "    single_feature_df = X[[feature_name]]\n",
    "    feature_array = ohe.transform(single_feature_df).toarray()\n",
    "    ohe_df = pd.DataFrame(feature_array, columns=ohe.categories_[0])\n",
    "    # drop the old feature from X and concat the new one-hot encoded df\n",
    "    X = pd.concat([X, ohe_df], axis=1)\n",
    "    return X"
   ]
  },
  {
   "cell_type": "code",
   "execution_count": 4,
   "metadata": {},
   "outputs": [],
   "source": [
    "def encode_and_concat_feature_train(X_train_all_features, feature_name):\n",
    "    \"\"\"\n",
    "    Helper function for transforming training data.  It takes in the full X dataframe and\n",
    "    feature name, makes a one-hot encoder, and returns the encoder as well as the dataframe\n",
    "    with that feature transformed into multiple columns of 1s and 0s\n",
    "    \"\"\"\n",
    "    # make a one-hot encoder and fit it to the training data\n",
    "    ohe = OneHotEncoder(categories=\"auto\", handle_unknown=\"ignore\")\n",
    "    single_feature_df = X_train_all_features[[feature_name]]\n",
    "    ohe.fit(single_feature_df)\n",
    "    # call helper function that actually encodes the feature and concats it\n",
    "    X_train_all_features = encode_and_concat_feature(X_train_all_features, feature_name, ohe)\n",
    "    X_train_all_features = X_train_all_features.drop(['Unnamed: 0'], axis=1)\n",
    "    return ohe, X_train_all_features"
   ]
  },
  {
   "cell_type": "code",
   "execution_count": 5,
   "metadata": {},
   "outputs": [],
   "source": [
    "ohe, df = encode_and_concat_feature_train(df, 'genre')\n"
   ]
  },
  {
   "cell_type": "code",
   "execution_count": 6,
   "metadata": {},
   "outputs": [
    {
     "data": {
      "text/plain": [
       "genre                     object\n",
       "track_id                  object\n",
       "artist_name               object\n",
       "title                     object\n",
       "loudness                 float64\n",
       "tempo                    float64\n",
       "time_signature             int64\n",
       "key                        int64\n",
       "mode                       int64\n",
       "duration                 float64\n",
       "avg_timbre1              float64\n",
       "avg_timbre2              float64\n",
       "avg_timbre3              float64\n",
       "avg_timbre4              float64\n",
       "avg_timbre5              float64\n",
       "avg_timbre6              float64\n",
       "avg_timbre7              float64\n",
       "avg_timbre8              float64\n",
       "avg_timbre9              float64\n",
       "avg_timbre10             float64\n",
       "avg_timbre11             float64\n",
       "avg_timbre12             float64\n",
       "var_timbre1              float64\n",
       "var_timbre2              float64\n",
       "var_timbre3              float64\n",
       "var_timbre4              float64\n",
       "var_timbre5              float64\n",
       "var_timbre6              float64\n",
       "var_timbre7              float64\n",
       "var_timbre8              float64\n",
       "var_timbre9              float64\n",
       "var_timbre10             float64\n",
       "var_timbre11             float64\n",
       "var_timbre12             float64\n",
       "classic pop and rock     float64\n",
       "classical                float64\n",
       "dance and electronica    float64\n",
       "folk                     float64\n",
       "hip-hop                  float64\n",
       "jazz and blues           float64\n",
       "metal                    float64\n",
       "pop                      float64\n",
       "punk                     float64\n",
       "soul and reggae          float64\n",
       "dtype: object"
      ]
     },
     "execution_count": 6,
     "metadata": {},
     "output_type": "execute_result"
    }
   ],
   "source": [
    "df.dtypes"
   ]
  },
  {
   "cell_type": "code",
   "execution_count": 7,
   "metadata": {},
   "outputs": [],
   "source": [
    "key_dict = {0:'C', 1:'C#/Db', 2:'D', \n",
    "            3:'D#/Eb', 4:'E', 5:'F', \n",
    "            6:'F#/Gb', 7:'G', 8:'G#/Ab', \n",
    "            9:'A', 10:'A#/Bb', 11:'B'}\n",
    "df['key']\n",
    "genre_columns = ['classic pop and rock', 'classical', \n",
    "                 'dance and electronica', 'folk', 'hip-hop',\n",
    "                'jazz and blues', 'metal', 'pop', 'punk',\n",
    "                'soul and reggae']\n"
   ]
  },
  {
   "cell_type": "code",
   "execution_count": 8,
   "metadata": {},
   "outputs": [],
   "source": [
    "X = df.drop((['genre', 'track_id', 'title', 'artist_name']+genre_columns), axis=1)\n",
    "y = df['genre']"
   ]
  },
  {
   "cell_type": "code",
   "execution_count": 9,
   "metadata": {},
   "outputs": [
    {
     "data": {
      "text/plain": [
       "Index(['loudness', 'tempo', 'time_signature', 'key', 'mode', 'duration',\n",
       "       'classic pop and rock', 'classical', 'dance and electronica', 'folk',\n",
       "       'hip-hop', 'jazz and blues', 'metal', 'pop', 'punk', 'soul and reggae'],\n",
       "      dtype='object')"
      ]
     },
     "execution_count": 9,
     "metadata": {},
     "output_type": "execute_result"
    }
   ],
   "source": [
    "X_timbres = X.drop(['loudness', 'tempo', 'time_signature', 'key', 'mode', 'duration'], axis=1)\n",
    "X_no_timbres = X.drop(X_timbres.columns, axis=1)\n",
    "X_genres = df[genre_columns]\n",
    "X_no_timbres = pd.concat([X_no_timbres, X_genres], sort=True, axis=1)\n",
    "X_no_timbres.columns"
   ]
  },
  {
   "cell_type": "markdown",
   "metadata": {},
   "source": [
    "#### pairplots w genre encoding"
   ]
  },
  {
   "cell_type": "code",
   "execution_count": 10,
   "metadata": {},
   "outputs": [],
   "source": [
    "# sns.pairplot(X_no_timbres)"
   ]
  },
  {
   "cell_type": "markdown",
   "metadata": {},
   "source": [
    "#### modeling for predicting genre"
   ]
  },
  {
   "cell_type": "code",
   "execution_count": 11,
   "metadata": {},
   "outputs": [],
   "source": [
    "x_train, x_test, y_train, y_test = train_test_split(X, y)"
   ]
  },
  {
   "cell_type": "code",
   "execution_count": 12,
   "metadata": {},
   "outputs": [
    {
     "data": {
      "text/plain": [
       "RandomForestClassifier(bootstrap=True, ccp_alpha=0.0, class_weight=None,\n",
       "                       criterion='gini', max_depth=None, max_features='auto',\n",
       "                       max_leaf_nodes=None, max_samples=None,\n",
       "                       min_impurity_decrease=0.0, min_impurity_split=None,\n",
       "                       min_samples_leaf=1, min_samples_split=2,\n",
       "                       min_weight_fraction_leaf=0.0, n_estimators=100,\n",
       "                       n_jobs=None, oob_score=False, random_state=None,\n",
       "                       verbose=0, warm_start=False)"
      ]
     },
     "execution_count": 12,
     "metadata": {},
     "output_type": "execute_result"
    }
   ],
   "source": [
    "rf = RandomForestClassifier()\n",
    "rf.fit(x_train, y_train)"
   ]
  },
  {
   "cell_type": "code",
   "execution_count": 13,
   "metadata": {},
   "outputs": [
    {
     "data": {
      "text/plain": [
       "1.0"
      ]
     },
     "execution_count": 13,
     "metadata": {},
     "output_type": "execute_result"
    }
   ],
   "source": [
    "rf.score(x_train, y_train)"
   ]
  },
  {
   "cell_type": "code",
   "execution_count": 14,
   "metadata": {},
   "outputs": [
    {
     "data": {
      "text/plain": [
       "classic pop and rock     23895\n",
       "folk                     13192\n",
       "dance and electronica     4935\n",
       "jazz and blues            4334\n",
       "soul and reggae           4016\n",
       "punk                      3200\n",
       "metal                     2103\n",
       "classical                 1874\n",
       "pop                       1617\n",
       "hip-hop                    434\n",
       "Name: genre, dtype: int64"
      ]
     },
     "execution_count": 14,
     "metadata": {},
     "output_type": "execute_result"
    }
   ],
   "source": [
    "y.value_counts()"
   ]
  },
  {
   "cell_type": "code",
   "execution_count": 15,
   "metadata": {},
   "outputs": [
    {
     "data": {
      "text/plain": [
       "0.6038255033557047"
      ]
     },
     "execution_count": 15,
     "metadata": {},
     "output_type": "execute_result"
    }
   ],
   "source": [
    "rf.score(x_test, y_test)"
   ]
  },
  {
   "cell_type": "markdown",
   "metadata": {},
   "source": [
    "#### modeling for predicting whether or not a song is 'classic pop and rock'"
   ]
  },
  {
   "cell_type": "code",
   "execution_count": 20,
   "metadata": {},
   "outputs": [
    {
     "data": {
      "text/plain": [
       "Index(['genre', 'track_id', 'artist_name', 'title', 'loudness', 'tempo',\n",
       "       'time_signature', 'key', 'mode', 'duration', 'avg_timbre1',\n",
       "       'avg_timbre2', 'avg_timbre3', 'avg_timbre4', 'avg_timbre5',\n",
       "       'avg_timbre6', 'avg_timbre7', 'avg_timbre8', 'avg_timbre9',\n",
       "       'avg_timbre10', 'avg_timbre11', 'avg_timbre12', 'var_timbre1',\n",
       "       'var_timbre2', 'var_timbre3', 'var_timbre4', 'var_timbre5',\n",
       "       'var_timbre6', 'var_timbre7', 'var_timbre8', 'var_timbre9',\n",
       "       'var_timbre10', 'var_timbre11', 'var_timbre12', 'classic pop and rock',\n",
       "       'classical', 'dance and electronica', 'folk', 'hip-hop',\n",
       "       'jazz and blues', 'metal', 'pop', 'punk', 'soul and reggae'],\n",
       "      dtype='object')"
      ]
     },
     "execution_count": 20,
     "metadata": {},
     "output_type": "execute_result"
    }
   ],
   "source": [
    "df.columns"
   ]
  },
  {
   "cell_type": "code",
   "execution_count": 40,
   "metadata": {},
   "outputs": [
    {
     "data": {
      "text/plain": [
       "0.6692340008402184"
      ]
     },
     "execution_count": 40,
     "metadata": {},
     "output_type": "execute_result"
    }
   ],
   "source": [
    "# this is the 'accuracy' of a model (test on our whole dataset) that would just predict a genre of classic rock for every song in the data set\n",
    "df['classic pop and rock'].value_counts()[1]/df['classic pop and rock'].value_counts()[0]"
   ]
  },
  {
   "cell_type": "code",
   "execution_count": 41,
   "metadata": {},
   "outputs": [
    {
     "data": {
      "text/plain": [
       "Index(['loudness', 'tempo', 'time_signature', 'key', 'mode', 'duration',\n",
       "       'avg_timbre1', 'avg_timbre2', 'avg_timbre3', 'avg_timbre4',\n",
       "       'avg_timbre5', 'avg_timbre6', 'avg_timbre7', 'avg_timbre8',\n",
       "       'avg_timbre9', 'avg_timbre10', 'avg_timbre11', 'avg_timbre12',\n",
       "       'var_timbre1', 'var_timbre2', 'var_timbre3', 'var_timbre4',\n",
       "       'var_timbre5', 'var_timbre6', 'var_timbre7', 'var_timbre8',\n",
       "       'var_timbre9', 'var_timbre10', 'var_timbre11', 'var_timbre12'],\n",
       "      dtype='object')"
      ]
     },
     "execution_count": 41,
     "metadata": {},
     "output_type": "execute_result"
    }
   ],
   "source": [
    "X = df.drop(['genre', 'track_id', 'artist_name', 'title'], axis=1)\n",
    "y = df['classic pop and rock']\n",
    "X = X.drop(genre_columns, axis=1)\n",
    "X.columns"
   ]
  },
  {
   "cell_type": "code",
   "execution_count": 42,
   "metadata": {},
   "outputs": [],
   "source": [
    "classic_x_train, classic_x_test, classic_y_train, classic_y_test = train_test_split(X, y)"
   ]
  },
  {
   "cell_type": "code",
   "execution_count": 43,
   "metadata": {},
   "outputs": [
    {
     "data": {
      "text/plain": [
       "RandomForestClassifier(bootstrap=True, ccp_alpha=0.0, class_weight=None,\n",
       "                       criterion='gini', max_depth=None, max_features='auto',\n",
       "                       max_leaf_nodes=None, max_samples=None,\n",
       "                       min_impurity_decrease=0.0, min_impurity_split=None,\n",
       "                       min_samples_leaf=1, min_samples_split=2,\n",
       "                       min_weight_fraction_leaf=0.0, n_estimators=100,\n",
       "                       n_jobs=None, oob_score=False, random_state=None,\n",
       "                       verbose=0, warm_start=False)"
      ]
     },
     "execution_count": 43,
     "metadata": {},
     "output_type": "execute_result"
    }
   ],
   "source": [
    "rf_classic = RandomForestClassifier()\n",
    "rf_classic.fit(classic_x_train, classic_y_train)"
   ]
  },
  {
   "cell_type": "code",
   "execution_count": 44,
   "metadata": {},
   "outputs": [
    {
     "data": {
      "text/plain": [
       "1.0"
      ]
     },
     "execution_count": 44,
     "metadata": {},
     "output_type": "execute_result"
    }
   ],
   "source": [
    "rf_classic.score(classic_x_train, classic_y_train)"
   ]
  },
  {
   "cell_type": "code",
   "execution_count": 45,
   "metadata": {},
   "outputs": [
    {
     "data": {
      "text/plain": [
       "0.7175167785234899"
      ]
     },
     "execution_count": 45,
     "metadata": {},
     "output_type": "execute_result"
    }
   ],
   "source": [
    "rf_classic.score(classic_x_test, classic_y_test)"
   ]
  },
  {
   "cell_type": "code",
   "execution_count": 46,
   "metadata": {},
   "outputs": [
    {
     "data": {
      "text/plain": [
       "array([0.70369128, 0.7033557 , 0.69697987, 0.69899329, 0.7       ])"
      ]
     },
     "execution_count": 46,
     "metadata": {},
     "output_type": "execute_result"
    }
   ],
   "source": [
    "cross_val_score(rf_classic, classic_x_test, classic_y_test)"
   ]
  },
  {
   "cell_type": "code",
   "execution_count": null,
   "metadata": {},
   "outputs": [],
   "source": []
  }
 ],
 "metadata": {
  "kernelspec": {
   "display_name": "Python 3",
   "language": "python",
   "name": "python3"
  },
  "language_info": {
   "codemirror_mode": {
    "name": "ipython",
    "version": 3
   },
   "file_extension": ".py",
   "mimetype": "text/x-python",
   "name": "python",
   "nbconvert_exporter": "python",
   "pygments_lexer": "ipython3",
   "version": "3.7.4"
  }
 },
 "nbformat": 4,
 "nbformat_minor": 4
}
