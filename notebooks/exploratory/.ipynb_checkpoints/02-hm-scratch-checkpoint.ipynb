{
 "cells": [
  {
   "cell_type": "code",
   "execution_count": 33,
   "metadata": {},
   "outputs": [],
   "source": [
    "import pandas as pd\n",
    "import numpy as np\n",
    "\n",
    "import matplotlib.pyplot as plt\n",
    "import seaborn as sns\n",
    "\n",
    "from sklearn.preprocessing import OneHotEncoder, StandardScaler\n",
    "\n",
    "from sklearn.impute import MissingIndicator, SimpleImputer\n",
    "\n",
    "from sklearn.dummy import DummyClassifier\n",
    "from sklearn.linear_model import LogisticRegression\n",
    "from sklearn.ensemble import RandomForestClassifier\n",
    "\n",
    "from sklearn.model_selection import train_test_split, cross_val_score\n",
    "from sklearn.feature_selection import SelectFromModel\n",
    "\n",
    "from sklearn.pipeline import Pipeline\n",
    "\n",
    "# plot_confusion_matrix is a handy visual tool, added in the latest version of scikit-learn\n",
    "# if you are running an older version, comment out this line and just use confusion_matrix\n",
    "# from sklearn.metrics import plot_confusion_matrix\n",
    "from sklearn.metrics import confusion_matrix"
   ]
  },
  {
   "cell_type": "code",
   "execution_count": 75,
   "metadata": {},
   "outputs": [],
   "source": [
    "# import data set\n",
    "df = pd.read_csv('../../Data/music_subset.csv')"
   ]
  },
  {
   "cell_type": "markdown",
   "metadata": {},
   "source": [
    "Steps\n",
    "1. Import data from csv\n",
    "2. Encode genre and concatenate\n",
    "3. Drop non-numerical columns\n",
    "4. Train test split\n",
    "5. Fit training data to selected model\n",
    "       a. Build pipeline to include all transforms plus final fit\n",
    "6. Score model on training data\n",
    "7. Score model on test data\n",
    "8. Predict genre for a test row\n",
    "9. Predict probability of genre for a test row"
   ]
  },
  {
   "cell_type": "code",
   "execution_count": 129,
   "metadata": {},
   "outputs": [
    {
     "data": {
      "text/plain": [
       "Daniel Johnston                        155\n",
       "Carly Simon                            154\n",
       "Gregory Isaacs                         143\n",
       "Jim Reeves                             137\n",
       "Pete Seeger                            131\n",
       "                                      ... \n",
       "Lost Kids                                1\n",
       "Nicki Minaj / Sean Garrett               1\n",
       "Boyz II Men / Driver                     1\n",
       "bloodsimple (featuring Chad Gray)        1\n",
       "The Ruby Suns feat. The Penan tribe      1\n",
       "Name: artist_name, Length: 3605, dtype: int64"
      ]
     },
     "execution_count": 129,
     "metadata": {},
     "output_type": "execute_result"
    }
   ],
   "source": [
    "df['artist_name'].value_counts()"
   ]
  },
  {
   "cell_type": "code",
   "execution_count": 89,
   "metadata": {},
   "outputs": [
    {
     "data": {
      "text/plain": [
       "classic pop and rock     23895\n",
       "folk                     13192\n",
       "dance and electronica     4935\n",
       "jazz and blues            4334\n",
       "soul and reggae           4016\n",
       "punk                      3200\n",
       "metal                     2103\n",
       "classical                 1874\n",
       "pop                       1617\n",
       "hip-hop                    434\n",
       "Name: genre, dtype: int64"
      ]
     },
     "execution_count": 89,
     "metadata": {},
     "output_type": "execute_result"
    }
   ],
   "source": [
    "df['genre'].value_counts()"
   ]
  },
  {
   "cell_type": "code",
   "execution_count": 77,
   "metadata": {},
   "outputs": [],
   "source": [
    "# for quick reference\n",
    "key_dict = {0:'C', 1:'C#/Db', 2:'D', \n",
    "            3:'D#/Eb', 4:'E', 5:'F', \n",
    "            6:'F#/Gb', 7:'G', 8:'G#/Ab', \n",
    "            9:'A', 10:'A#/Bb', 11:'B'}"
   ]
  },
  {
   "cell_type": "code",
   "execution_count": 34,
   "metadata": {},
   "outputs": [],
   "source": [
    "def encode_and_concat_feature(X, feature_name, ohe):\n",
    "    \"\"\"\n",
    "    Helper function for transforming a feature into multiple columns of 1s and 0s. Used\n",
    "    in both training and testing steps.  Takes in the full X dataframe, feature name, \n",
    "    and encoder, and returns the dataframe with that feature transformed into multiple\n",
    "    columns of 1s and 0s\n",
    "    \"\"\"\n",
    "    # create new one-hot encoded df based on the feature\n",
    "    single_feature_df = X[[feature_name]]\n",
    "    feature_array = ohe.transform(single_feature_df).toarray()\n",
    "    ohe_df = pd.DataFrame(feature_array, columns=ohe.categories_[0])\n",
    "    # drop the old feature from X and concat the new one-hot encoded df\n",
    "    X = pd.concat([X, ohe_df], axis=1)\n",
    "    return X"
   ]
  },
  {
   "cell_type": "code",
   "execution_count": 39,
   "metadata": {},
   "outputs": [],
   "source": [
    "def encode_and_concat_feature_train(X_train_all_features, feature_name):\n",
    "    \"\"\"\n",
    "    Helper function for transforming training data.  It takes in the full X dataframe and\n",
    "    feature name, makes a one-hot encoder, and returns the encoder as well as the dataframe\n",
    "    with that feature transformed into multiple columns of 1s and 0s\n",
    "    \"\"\"\n",
    "    # make a one-hot encoder and fit it to the training data\n",
    "    ohe = OneHotEncoder(categories=\"auto\", handle_unknown=\"ignore\")\n",
    "    single_feature_df = X_train_all_features[[feature_name]]\n",
    "    ohe.fit(single_feature_df)\n",
    "    # call helper function that actually encodes the feature and concats it\n",
    "    X_train_all_features = encode_and_concat_feature(X_train_all_features, feature_name, ohe)\n",
    "    X_train_all_features = X_train_all_features.drop(['Unnamed: 0'], axis=1)\n",
    "    return ohe, X_train_all_features"
   ]
  },
  {
   "cell_type": "code",
   "execution_count": 76,
   "metadata": {},
   "outputs": [],
   "source": [
    "# one hot encode the genre column and concatenate those columns to the dataframe\n",
    "ohe, df_encoded = encode_and_concat_feature_train(df, 'genre')"
   ]
  },
  {
   "cell_type": "code",
   "execution_count": 78,
   "metadata": {},
   "outputs": [],
   "source": [
    "# drop non-number, and one hot encoded columns\n",
    "genre_columns = list(df_encoded['genre'].unique())\n",
    "\n",
    "X = df_encoded.drop((['genre', 'track_id', 'title', 'artist_name']+genre_columns), axis=1)\n",
    "y = df_encoded['genre']"
   ]
  },
  {
   "cell_type": "code",
   "execution_count": 11,
   "metadata": {},
   "outputs": [
    {
     "data": {
      "text/plain": [
       "Index(['loudness', 'tempo', 'time_signature', 'key', 'mode', 'duration',\n",
       "       'classic pop and rock', 'classical', 'dance and electronica', 'folk',\n",
       "       'hip-hop', 'jazz and blues', 'metal', 'pop', 'punk', 'soul and reggae'],\n",
       "      dtype='object')"
      ]
     },
     "execution_count": 11,
     "metadata": {},
     "output_type": "execute_result"
    }
   ],
   "source": [
    "X_timbres = X.drop(['loudness', 'tempo', 'time_signature', 'key', 'mode', 'duration'], axis=1)\n",
    "X_no_timbres = X.drop(X_timbres.columns, axis=1)\n",
    "X_genres = df[genre_columns]\n",
    "X_no_timbres = pd.concat([X_no_timbres, X_genres], sort=True, axis=1)\n",
    "X_no_timbres.columns"
   ]
  },
  {
   "cell_type": "code",
   "execution_count": 117,
   "metadata": {},
   "outputs": [],
   "source": [
    "df_encoded1 = df_encoded[df_encoded['genre']!='classic pop and rock']\n",
    "X1 = df_encoded1.drop((['genre', 'track_id', 'title', 'artist_name']+genre_columns), axis=1)\n",
    "y = df_encoded1['genre']"
   ]
  },
  {
   "cell_type": "code",
   "execution_count": 118,
   "metadata": {},
   "outputs": [
    {
     "data": {
      "text/plain": [
       "folk                     13192\n",
       "dance and electronica     4935\n",
       "jazz and blues            4334\n",
       "soul and reggae           4016\n",
       "punk                      3200\n",
       "metal                     2103\n",
       "classical                 1874\n",
       "pop                       1617\n",
       "hip-hop                    434\n",
       "Name: genre, dtype: int64"
      ]
     },
     "execution_count": 118,
     "metadata": {},
     "output_type": "execute_result"
    }
   ],
   "source": [
    "df_encoded1['genre'].value_counts()"
   ]
  },
  {
   "cell_type": "markdown",
   "metadata": {},
   "source": [
    "#### pairplots w genre encoding"
   ]
  },
  {
   "cell_type": "code",
   "execution_count": 10,
   "metadata": {},
   "outputs": [],
   "source": [
    "# sns.pairplot(X_no_timbres)"
   ]
  },
  {
   "cell_type": "markdown",
   "metadata": {},
   "source": [
    "#### modeling for predicting genre"
   ]
  },
  {
   "cell_type": "code",
   "execution_count": 119,
   "metadata": {},
   "outputs": [],
   "source": [
    "x1_train, x1_test, y1_train, y1_test = train_test_split(X1, y)"
   ]
  },
  {
   "cell_type": "code",
   "execution_count": 125,
   "metadata": {},
   "outputs": [
    {
     "name": "stderr",
     "output_type": "stream",
     "text": [
      "/opt/anaconda3/lib/python3.7/site-packages/sklearn/ensemble/forest.py:245: FutureWarning: The default value of n_estimators will change from 10 in version 0.20 to 100 in 0.22.\n",
      "  \"10 in version 0.20 to 100 in 0.22.\", FutureWarning)\n",
      "/opt/anaconda3/lib/python3.7/site-packages/sklearn/ensemble/forest.py:245: FutureWarning: The default value of n_estimators will change from 10 in version 0.20 to 100 in 0.22.\n",
      "  \"10 in version 0.20 to 100 in 0.22.\", FutureWarning)\n"
     ]
    },
    {
     "data": {
      "text/plain": [
       "RandomForestClassifier(bootstrap=True, class_weight=None, criterion='gini',\n",
       "                       max_depth=None, max_features='auto', max_leaf_nodes=None,\n",
       "                       min_impurity_decrease=0.0, min_impurity_split=None,\n",
       "                       min_samples_leaf=1, min_samples_split=2,\n",
       "                       min_weight_fraction_leaf=0.0, n_estimators=10,\n",
       "                       n_jobs=None, oob_score=False, random_state=None,\n",
       "                       verbose=0, warm_start=False)"
      ]
     },
     "execution_count": 125,
     "metadata": {},
     "output_type": "execute_result"
    }
   ],
   "source": [
    "rf = RandomForestClassifier(class_weight='balanced')\n",
    "rf1 = RandomForestClassifier()\n",
    "rf.fit(x1_train, y1_train)\n",
    "rf1.fit(x1_train, y1_train)"
   ]
  },
  {
   "cell_type": "code",
   "execution_count": 91,
   "metadata": {},
   "outputs": [],
   "source": [
    "# encode_concat = Pipeline(steps=[\n",
    "#     ('encoded_concated', encode_and_concat_feature_train(df, 'genre')),\n",
    "#     ('rf', rf)\n",
    "# ])"
   ]
  },
  {
   "cell_type": "code",
   "execution_count": 126,
   "metadata": {},
   "outputs": [
    {
     "name": "stdout",
     "output_type": "stream",
     "text": [
      "0.9880125476137127\n",
      "0.9888341175591904\n"
     ]
    }
   ],
   "source": [
    "print(rf.score(x1_train, y1_train))\n",
    "print(rf1.score(x1_train, y1_train))"
   ]
  },
  {
   "cell_type": "code",
   "execution_count": 112,
   "metadata": {},
   "outputs": [
    {
     "data": {
      "text/plain": [
       "classic pop and rock     23895\n",
       "folk                     13192\n",
       "dance and electronica     4935\n",
       "jazz and blues            4334\n",
       "soul and reggae           4016\n",
       "punk                      3200\n",
       "metal                     2103\n",
       "classical                 1874\n",
       "pop                       1617\n",
       "hip-hop                    434\n",
       "Name: genre, dtype: int64"
      ]
     },
     "execution_count": 112,
     "metadata": {},
     "output_type": "execute_result"
    }
   ],
   "source": [
    "y.value_counts()"
   ]
  },
  {
   "cell_type": "code",
   "execution_count": 127,
   "metadata": {},
   "outputs": [
    {
     "name": "stdout",
     "output_type": "stream",
     "text": [
      "0.6266382883387476\n",
      "0.6307830178111348\n"
     ]
    }
   ],
   "source": [
    "print(rf.score(x1_test, y1_test))\n",
    "print(rf1.score(x1_test, y1_test))"
   ]
  },
  {
   "cell_type": "code",
   "execution_count": 97,
   "metadata": {},
   "outputs": [],
   "source": [
    "from sklearn.metrics import classification_report"
   ]
  },
  {
   "cell_type": "code",
   "execution_count": 128,
   "metadata": {},
   "outputs": [
    {
     "name": "stdout",
     "output_type": "stream",
     "text": [
      "                       precision    recall  f1-score   support\n",
      "\n",
      "            classical       0.73      0.67      0.70       464\n",
      "dance and electronica       0.57      0.57      0.57      1239\n",
      "                 folk       0.64      0.87      0.74      3321\n",
      "              hip-hop       0.38      0.14      0.21        84\n",
      "       jazz and blues       0.62      0.40      0.49      1094\n",
      "                metal       0.75      0.67      0.71       504\n",
      "                  pop       0.38      0.12      0.18       414\n",
      "                 punk       0.69      0.51      0.59       838\n",
      "      soul and reggae       0.53      0.43      0.48       969\n",
      "\n",
      "             accuracy                           0.63      8927\n",
      "            macro avg       0.59      0.49      0.52      8927\n",
      "         weighted avg       0.62      0.63      0.61      8927\n",
      "\n",
      "                       precision    recall  f1-score   support\n",
      "\n",
      "            classical       0.69      0.67      0.68       464\n",
      "dance and electronica       0.54      0.58      0.56      1239\n",
      "                 folk       0.67      0.86      0.75      3321\n",
      "              hip-hop       0.20      0.05      0.08        84\n",
      "       jazz and blues       0.59      0.43      0.50      1094\n",
      "                metal       0.73      0.65      0.69       504\n",
      "                  pop       0.36      0.11      0.17       414\n",
      "                 punk       0.69      0.51      0.58       838\n",
      "      soul and reggae       0.55      0.47      0.51       969\n",
      "\n",
      "             accuracy                           0.63      8927\n",
      "            macro avg       0.56      0.48      0.50      8927\n",
      "         weighted avg       0.62      0.63      0.61      8927\n",
      "\n"
     ]
    }
   ],
   "source": [
    "print(classification_report(y1_test, rf.predict(x1_test)))\n",
    "print(classification_report(y1_test, rf1.predict(x1_test)))"
   ]
  },
  {
   "cell_type": "markdown",
   "metadata": {},
   "source": [
    "# cross_val_score(rf, x_test, y_test)"
   ]
  },
  {
   "cell_type": "code",
   "execution_count": 96,
   "metadata": {},
   "outputs": [
    {
     "data": {
      "text/plain": [
       "array([[4677,   18,  148,  757,    4,   85,   46,   14,   75,  109],\n",
       "       [  92,  310,   18,   33,    0,   14,    2,    1,    0,    1],\n",
       "       [ 677,   11,  381,   88,    3,   40,    6,    5,   10,   33],\n",
       "       [1647,   15,   36, 1496,    2,   62,    4,    5,    2,   15],\n",
       "       [  65,    1,   12,    5,    9,    0,    0,    0,    2,   19],\n",
       "       [ 489,   38,   52,  178,    0,  335,    0,    0,    0,   11],\n",
       "       [ 161,    1,    9,    7,    0,    2,  315,    1,   30,    0],\n",
       "       [ 323,    0,   13,   52,    0,    2,    1,   14,    4,   12],\n",
       "       [ 431,    2,   14,   26,    2,    5,   41,    0,  233,   10],\n",
       "       [ 674,    0,   46,   79,    3,    9,    1,    4,    4,  211]])"
      ]
     },
     "execution_count": 96,
     "metadata": {},
     "output_type": "execute_result"
    }
   ],
   "source": [
    "confusion_matrix(y_test, rf.predict(x_test))"
   ]
  },
  {
   "cell_type": "code",
   "execution_count": null,
   "metadata": {},
   "outputs": [],
   "source": []
  },
  {
   "cell_type": "markdown",
   "metadata": {},
   "source": [
    "#### modeling for predicting whether or not a song is 'classic pop and rock'"
   ]
  },
  {
   "cell_type": "code",
   "execution_count": 17,
   "metadata": {},
   "outputs": [
    {
     "data": {
      "text/plain": [
       "Index(['genre', 'track_id', 'artist_name', 'title', 'loudness', 'tempo',\n",
       "       'time_signature', 'key', 'mode', 'duration', 'avg_timbre1',\n",
       "       'avg_timbre2', 'avg_timbre3', 'avg_timbre4', 'avg_timbre5',\n",
       "       'avg_timbre6', 'avg_timbre7', 'avg_timbre8', 'avg_timbre9',\n",
       "       'avg_timbre10', 'avg_timbre11', 'avg_timbre12', 'var_timbre1',\n",
       "       'var_timbre2', 'var_timbre3', 'var_timbre4', 'var_timbre5',\n",
       "       'var_timbre6', 'var_timbre7', 'var_timbre8', 'var_timbre9',\n",
       "       'var_timbre10', 'var_timbre11', 'var_timbre12', 'classic pop and rock',\n",
       "       'classical', 'dance and electronica', 'folk', 'hip-hop',\n",
       "       'jazz and blues', 'metal', 'pop', 'punk', 'soul and reggae'],\n",
       "      dtype='object')"
      ]
     },
     "execution_count": 17,
     "metadata": {},
     "output_type": "execute_result"
    }
   ],
   "source": [
    "df.columns"
   ]
  },
  {
   "cell_type": "code",
   "execution_count": 18,
   "metadata": {},
   "outputs": [
    {
     "data": {
      "text/plain": [
       "0.6692340008402184"
      ]
     },
     "execution_count": 18,
     "metadata": {},
     "output_type": "execute_result"
    }
   ],
   "source": [
    "# this is the 'accuracy' of a model (test on our whole dataset) that would just predict a genre of classic rock for every song in the data set\n",
    "df['classic pop and rock'].value_counts()[1]/df['classic pop and rock'].value_counts()[0]"
   ]
  },
  {
   "cell_type": "code",
   "execution_count": 19,
   "metadata": {},
   "outputs": [
    {
     "data": {
      "text/plain": [
       "Index(['loudness', 'tempo', 'time_signature', 'key', 'mode', 'duration',\n",
       "       'avg_timbre1', 'avg_timbre2', 'avg_timbre3', 'avg_timbre4',\n",
       "       'avg_timbre5', 'avg_timbre6', 'avg_timbre7', 'avg_timbre8',\n",
       "       'avg_timbre9', 'avg_timbre10', 'avg_timbre11', 'avg_timbre12',\n",
       "       'var_timbre1', 'var_timbre2', 'var_timbre3', 'var_timbre4',\n",
       "       'var_timbre5', 'var_timbre6', 'var_timbre7', 'var_timbre8',\n",
       "       'var_timbre9', 'var_timbre10', 'var_timbre11', 'var_timbre12'],\n",
       "      dtype='object')"
      ]
     },
     "execution_count": 19,
     "metadata": {},
     "output_type": "execute_result"
    }
   ],
   "source": [
    "X = df.drop(['genre', 'track_id', 'artist_name', 'title'], axis=1)\n",
    "y = df['classic pop and rock']\n",
    "X = X.drop(genre_columns, axis=1)\n",
    "X.columns"
   ]
  },
  {
   "cell_type": "code",
   "execution_count": 20,
   "metadata": {},
   "outputs": [],
   "source": [
    "classic_x_train, classic_x_test, classic_y_train, classic_y_test = train_test_split(X, y)"
   ]
  },
  {
   "cell_type": "code",
   "execution_count": 21,
   "metadata": {},
   "outputs": [
    {
     "name": "stderr",
     "output_type": "stream",
     "text": [
      "/opt/anaconda3/lib/python3.7/site-packages/sklearn/ensemble/forest.py:245: FutureWarning: The default value of n_estimators will change from 10 in version 0.20 to 100 in 0.22.\n",
      "  \"10 in version 0.20 to 100 in 0.22.\", FutureWarning)\n"
     ]
    },
    {
     "data": {
      "text/plain": [
       "RandomForestClassifier(bootstrap=True, class_weight=None, criterion='gini',\n",
       "                       max_depth=None, max_features='auto', max_leaf_nodes=None,\n",
       "                       min_impurity_decrease=0.0, min_impurity_split=None,\n",
       "                       min_samples_leaf=1, min_samples_split=2,\n",
       "                       min_weight_fraction_leaf=0.0, n_estimators=10,\n",
       "                       n_jobs=None, oob_score=False, random_state=None,\n",
       "                       verbose=0, warm_start=False)"
      ]
     },
     "execution_count": 21,
     "metadata": {},
     "output_type": "execute_result"
    }
   ],
   "source": [
    "rf_classic = RandomForestClassifier()\n",
    "rf_classic.fit(classic_x_train, classic_y_train)"
   ]
  },
  {
   "cell_type": "code",
   "execution_count": 22,
   "metadata": {},
   "outputs": [
    {
     "data": {
      "text/plain": [
       "0.9851006711409396"
      ]
     },
     "execution_count": 22,
     "metadata": {},
     "output_type": "execute_result"
    }
   ],
   "source": [
    "rf_classic.score(classic_x_train, classic_y_train)"
   ]
  },
  {
   "cell_type": "code",
   "execution_count": 23,
   "metadata": {},
   "outputs": [
    {
     "data": {
      "text/plain": [
       "0.6714093959731544"
      ]
     },
     "execution_count": 23,
     "metadata": {},
     "output_type": "execute_result"
    }
   ],
   "source": [
    "rf_classic.score(classic_x_test, classic_y_test)"
   ]
  },
  {
   "cell_type": "code",
   "execution_count": 24,
   "metadata": {},
   "outputs": [
    {
     "name": "stderr",
     "output_type": "stream",
     "text": [
      "/opt/anaconda3/lib/python3.7/site-packages/sklearn/model_selection/_split.py:1978: FutureWarning: The default value of cv will change from 3 to 5 in version 0.22. Specify it explicitly to silence this warning.\n",
      "  warnings.warn(CV_WARNING, FutureWarning)\n"
     ]
    },
    {
     "data": {
      "text/plain": [
       "array([0.65633179, 0.65592913, 0.64760371])"
      ]
     },
     "execution_count": 24,
     "metadata": {},
     "output_type": "execute_result"
    }
   ],
   "source": [
    "cross_val_score(rf_classic, classic_x_test, classic_y_test)"
   ]
  },
  {
   "cell_type": "code",
   "execution_count": null,
   "metadata": {},
   "outputs": [],
   "source": []
  }
 ],
 "metadata": {
  "kernelspec": {
   "display_name": "Python 3",
   "language": "python",
   "name": "python3"
  },
  "language_info": {
   "codemirror_mode": {
    "name": "ipython",
    "version": 3
   },
   "file_extension": ".py",
   "mimetype": "text/x-python",
   "name": "python",
   "nbconvert_exporter": "python",
   "pygments_lexer": "ipython3",
   "version": "3.7.7"
  }
 },
 "nbformat": 4,
 "nbformat_minor": 4
}
