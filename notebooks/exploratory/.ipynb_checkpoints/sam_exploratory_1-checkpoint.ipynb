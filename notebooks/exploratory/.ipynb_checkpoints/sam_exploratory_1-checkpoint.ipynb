{
 "cells": [
  {
   "cell_type": "code",
   "execution_count": 1,
   "metadata": {},
   "outputs": [],
   "source": [
    "import pandas as pd\n",
    "import numpy as np\n",
    "\n",
    "import matplotlib.pyplot as plt\n",
    "import seaborn as sns\n",
    "\n",
    "from sklearn.preprocessing import OneHotEncoder, StandardScaler\n",
    "\n",
    "from sklearn.impute import MissingIndicator, SimpleImputer\n",
    "\n",
    "from sklearn.dummy import DummyClassifier\n",
    "from sklearn.linear_model import LogisticRegression\n",
    "from sklearn.ensemble import RandomForestClassifier\n",
    "\n",
    "from sklearn.model_selection import train_test_split, cross_val_score\n",
    "from sklearn.feature_selection import SelectFromModel\n",
    "\n",
    "# plot_confusion_matrix is a handy visual tool, added in the latest version of scikit-learn\n",
    "# if you are running an older version, comment out this line and just use confusion_matrix\n",
    "from sklearn.metrics import plot_confusion_matrix\n",
    "from sklearn.metrics import confusion_matrix"
   ]
  },
  {
   "cell_type": "code",
   "execution_count": 2,
   "metadata": {},
   "outputs": [],
   "source": [
    "df = pd.read_csv('../../Data/music_subset.csv')"
   ]
  },
  {
   "cell_type": "code",
   "execution_count": 3,
   "metadata": {},
   "outputs": [],
   "source": [
    "def encode_and_concat_feature(X, feature_name, ohe):\n",
    "    \"\"\"\n",
    "    Helper function for transforming a feature into multiple columns of 1s and 0s. Used\n",
    "    in both training and testing steps.  Takes in the full X dataframe, feature name, \n",
    "    and encoder, and returns the dataframe with that feature transformed into multiple\n",
    "    columns of 1s and 0s\n",
    "    \"\"\"\n",
    "    # create new one-hot encoded df based on the feature\n",
    "    single_feature_df = X[[feature_name]]\n",
    "    feature_array = ohe.transform(single_feature_df).toarray()\n",
    "    ohe_df = pd.DataFrame(feature_array, columns=ohe.categories_[0])\n",
    "    # drop the old feature from X and concat the new one-hot encoded df\n",
    "    X = pd.concat([X, ohe_df], axis=1)\n",
    "    return X"
   ]
  },
  {
   "cell_type": "code",
   "execution_count": 4,
   "metadata": {},
   "outputs": [],
   "source": [
    "def encode_and_concat_feature_train(X_train_all_features, feature_name):\n",
    "    \"\"\"\n",
    "    Helper function for transforming training data.  It takes in the full X dataframe and\n",
    "    feature name, makes a one-hot encoder, and returns the encoder as well as the dataframe\n",
    "    with that feature transformed into multiple columns of 1s and 0s\n",
    "    \"\"\"\n",
    "    # make a one-hot encoder and fit it to the training data\n",
    "    ohe = OneHotEncoder(categories=\"auto\", handle_unknown=\"ignore\")\n",
    "    single_feature_df = X_train_all_features[[feature_name]]\n",
    "    ohe.fit(single_feature_df)\n",
    "    # call helper function that actually encodes the feature and concats it\n",
    "    X_train_all_features = encode_and_concat_feature(X_train_all_features, feature_name, ohe)\n",
    "    X_train_all_features = X_train_all_features.drop(['Unnamed: 0'], axis=1)\n",
    "    return ohe, X_train_all_features"
   ]
  },
  {
   "cell_type": "code",
   "execution_count": 5,
   "metadata": {},
   "outputs": [],
   "source": [
    "ohe, df = encode_and_concat_feature_train(df, 'genre')\n"
   ]
  },
  {
   "cell_type": "code",
   "execution_count": 6,
   "metadata": {},
   "outputs": [
    {
     "data": {
      "text/plain": [
       "genre                     object\n",
       "track_id                  object\n",
       "artist_name               object\n",
       "title                     object\n",
       "loudness                 float64\n",
       "tempo                    float64\n",
       "time_signature             int64\n",
       "key                        int64\n",
       "mode                       int64\n",
       "duration                 float64\n",
       "avg_timbre1              float64\n",
       "avg_timbre2              float64\n",
       "avg_timbre3              float64\n",
       "avg_timbre4              float64\n",
       "avg_timbre5              float64\n",
       "avg_timbre6              float64\n",
       "avg_timbre7              float64\n",
       "avg_timbre8              float64\n",
       "avg_timbre9              float64\n",
       "avg_timbre10             float64\n",
       "avg_timbre11             float64\n",
       "avg_timbre12             float64\n",
       "var_timbre1              float64\n",
       "var_timbre2              float64\n",
       "var_timbre3              float64\n",
       "var_timbre4              float64\n",
       "var_timbre5              float64\n",
       "var_timbre6              float64\n",
       "var_timbre7              float64\n",
       "var_timbre8              float64\n",
       "var_timbre9              float64\n",
       "var_timbre10             float64\n",
       "var_timbre11             float64\n",
       "var_timbre12             float64\n",
       "classic pop and rock     float64\n",
       "classical                float64\n",
       "dance and electronica    float64\n",
       "folk                     float64\n",
       "hip-hop                  float64\n",
       "jazz and blues           float64\n",
       "metal                    float64\n",
       "pop                      float64\n",
       "punk                     float64\n",
       "soul and reggae          float64\n",
       "dtype: object"
      ]
     },
     "execution_count": 6,
     "metadata": {},
     "output_type": "execute_result"
    }
   ],
   "source": [
    "df.dtypes"
   ]
  },
  {
   "cell_type": "code",
   "execution_count": 7,
   "metadata": {},
   "outputs": [],
   "source": [
    "key_dict = {0:'C', 1:'C#/Db', 2:'D', \n",
    "            3:'D#/Eb', 4:'E', 5:'F', \n",
    "            6:'F#/Gb', 7:'G', 8:'G#/Ab', \n",
    "            9:'A', 10:'A#/Bb', 11:'B'}\n",
    "df['key']\n",
    "genre_columns = ['classic pop and rock', 'classical', \n",
    "                 'dance and electronica', 'folk', 'hip-hop',\n",
    "                'jazz and blues', 'metal', 'pop', 'punk',\n",
    "                'soul and reggae']\n"
   ]
  },
  {
   "cell_type": "code",
   "execution_count": 8,
   "metadata": {},
   "outputs": [],
   "source": [
    "X = df.drop((['genre', 'track_id', 'title', 'artist_name']+genre_columns), axis=1)\n",
    "y = df['genre']"
   ]
  },
  {
   "cell_type": "code",
   "execution_count": 9,
   "metadata": {},
   "outputs": [
    {
     "data": {
      "text/plain": [
       "Index(['loudness', 'tempo', 'time_signature', 'key', 'mode', 'duration',\n",
       "       'classic pop and rock', 'classical', 'dance and electronica', 'folk',\n",
       "       'hip-hop', 'jazz and blues', 'metal', 'pop', 'punk', 'soul and reggae'],\n",
       "      dtype='object')"
      ]
     },
     "execution_count": 9,
     "metadata": {},
     "output_type": "execute_result"
    }
   ],
   "source": [
    "X_timbres = X.drop(['loudness', 'tempo', 'time_signature', 'key', 'mode', 'duration'], axis=1)\n",
    "X_no_timbres = X.drop(X_timbres.columns, axis=1)\n",
    "X_genres = df[genre_columns]\n",
    "X_no_timbres = pd.concat([X_no_timbres, X_genres], sort=True, axis=1)\n",
    "X_no_timbres.columns"
   ]
  },
  {
   "cell_type": "markdown",
   "metadata": {},
   "source": [
    "#### pairplots w genre encoding"
   ]
  },
  {
   "cell_type": "code",
   "execution_count": 10,
   "metadata": {},
   "outputs": [],
   "source": [
    "# sns.pairplot(X_no_timbres)"
   ]
  },
  {
   "cell_type": "markdown",
   "metadata": {},
   "source": [
    "#### modeling for predicting genre"
   ]
  },
  {
   "cell_type": "code",
   "execution_count": 11,
   "metadata": {},
   "outputs": [
    {
     "data": {
      "text/plain": [
       "0.6692340008402184"
      ]
     },
     "execution_count": 11,
     "metadata": {},
     "output_type": "execute_result"
    }
   ],
   "source": [
    "# this is the 'accuracy' of a model (test on our whole dataset) that would just predict a genre of classic rock for every song in the data set\n",
    "\n",
    "df['classic pop and rock'].value_counts()[1]/df['classic pop and rock'].value_counts()[0]"
   ]
  },
  {
   "cell_type": "code",
   "execution_count": 12,
   "metadata": {},
   "outputs": [],
   "source": [
    "x_train, x_test, y_train, y_test = train_test_split(X, y)"
   ]
  },
  {
   "cell_type": "code",
   "execution_count": 13,
   "metadata": {},
   "outputs": [
    {
     "data": {
      "text/plain": [
       "RandomForestClassifier(bootstrap=True, ccp_alpha=0.0, class_weight=None,\n",
       "                       criterion='gini', max_depth=None, max_features='auto',\n",
       "                       max_leaf_nodes=None, max_samples=None,\n",
       "                       min_impurity_decrease=0.0, min_impurity_split=None,\n",
       "                       min_samples_leaf=1, min_samples_split=2,\n",
       "                       min_weight_fraction_leaf=0.0, n_estimators=100,\n",
       "                       n_jobs=None, oob_score=False, random_state=None,\n",
       "                       verbose=0, warm_start=False)"
      ]
     },
     "execution_count": 13,
     "metadata": {},
     "output_type": "execute_result"
    }
   ],
   "source": [
    "rf = RandomForestClassifier()\n",
    "rf.fit(x_train, y_train)"
   ]
  },
  {
   "cell_type": "code",
   "execution_count": 14,
   "metadata": {},
   "outputs": [
    {
     "data": {
      "text/plain": [
       "1.0"
      ]
     },
     "execution_count": 14,
     "metadata": {},
     "output_type": "execute_result"
    }
   ],
   "source": [
    "rf.score(x_train, y_train)"
   ]
  },
  {
   "cell_type": "code",
   "execution_count": 15,
   "metadata": {},
   "outputs": [
    {
     "data": {
      "text/plain": [
       "classic pop and rock     23895\n",
       "folk                     13192\n",
       "dance and electronica     4935\n",
       "jazz and blues            4334\n",
       "soul and reggae           4016\n",
       "punk                      3200\n",
       "metal                     2103\n",
       "classical                 1874\n",
       "pop                       1617\n",
       "hip-hop                    434\n",
       "Name: genre, dtype: int64"
      ]
     },
     "execution_count": 15,
     "metadata": {},
     "output_type": "execute_result"
    }
   ],
   "source": [
    "y.value_counts()"
   ]
  },
  {
   "cell_type": "code",
   "execution_count": 15,
   "metadata": {},
   "outputs": [
    {
     "data": {
      "text/plain": [
       "array([0.57919463, 0.56442953, 0.57818792, 0.56778523, 0.57550336])"
      ]
     },
     "execution_count": 15,
     "metadata": {},
     "output_type": "execute_result"
    }
   ],
   "source": [
    "# rf.score(x_test, y_test)\n",
    "cross_val_score(rf, x_test, y_test)"
   ]
  },
  {
   "cell_type": "code",
   "execution_count": 21,
   "metadata": {},
   "outputs": [],
   "source": [
    "genres = rf.classes_"
   ]
  },
  {
   "cell_type": "code",
   "execution_count": 24,
   "metadata": {},
   "outputs": [
    {
     "data": {
      "text/plain": [
       "[{'classic pop and rock': 0.22,\n",
       "  'classical': 0.01,\n",
       "  'dance and electronica': 0.6,\n",
       "  'folk': 0.02,\n",
       "  'hip-hop': 0.01,\n",
       "  'jazz and blues': 0.07,\n",
       "  'metal': 0.0,\n",
       "  'pop': 0.03,\n",
       "  'punk': 0.01,\n",
       "  'soul and reggae': 0.03},\n",
       " {'classic pop and rock': 0.37,\n",
       "  'classical': 0.0,\n",
       "  'dance and electronica': 0.12,\n",
       "  'folk': 0.09,\n",
       "  'hip-hop': 0.0,\n",
       "  'jazz and blues': 0.04,\n",
       "  'metal': 0.01,\n",
       "  'pop': 0.13,\n",
       "  'punk': 0.05,\n",
       "  'soul and reggae': 0.19},\n",
       " {'classic pop and rock': 0.47,\n",
       "  'classical': 0.0,\n",
       "  'dance and electronica': 0.0,\n",
       "  'folk': 0.3,\n",
       "  'hip-hop': 0.0,\n",
       "  'jazz and blues': 0.01,\n",
       "  'metal': 0.01,\n",
       "  'pop': 0.08,\n",
       "  'punk': 0.03,\n",
       "  'soul and reggae': 0.1},\n",
       " {'classic pop and rock': 0.42,\n",
       "  'classical': 0.0,\n",
       "  'dance and electronica': 0.06,\n",
       "  'folk': 0.36,\n",
       "  'hip-hop': 0.0,\n",
       "  'jazz and blues': 0.1,\n",
       "  'metal': 0.0,\n",
       "  'pop': 0.01,\n",
       "  'punk': 0.02,\n",
       "  'soul and reggae': 0.03},\n",
       " {'classic pop and rock': 0.85,\n",
       "  'classical': 0.0,\n",
       "  'dance and electronica': 0.01,\n",
       "  'folk': 0.06,\n",
       "  'hip-hop': 0.0,\n",
       "  'jazz and blues': 0.02,\n",
       "  'metal': 0.0,\n",
       "  'pop': 0.03,\n",
       "  'punk': 0.02,\n",
       "  'soul and reggae': 0.01}]"
      ]
     },
     "execution_count": 24,
     "metadata": {},
     "output_type": "execute_result"
    }
   ],
   "source": [
    "#create array containing dictionaries of predicted probabilities of that song being in a given genre\n",
    "\n",
    "rf_pred_probs = rf.predict_proba(x_test)\n",
    "dicts = []\n",
    "for row in rf_pred_probs:\n",
    "    dictionary = {}\n",
    "    for k in range(len(genres)):\n",
    "        dictionary[genres[k]] = row[k]\n",
    "    dicts.append(dictionary)\n",
    "dicts[0:5]\n",
    "        "
   ]
  },
  {
   "cell_type": "markdown",
   "metadata": {},
   "source": [
    "#### modeling for predicting whether or not a song is 'classic pop and rock'"
   ]
  },
  {
   "cell_type": "code",
   "execution_count": 20,
   "metadata": {},
   "outputs": [
    {
     "data": {
      "text/plain": [
       "Index(['genre', 'track_id', 'artist_name', 'title', 'loudness', 'tempo',\n",
       "       'time_signature', 'key', 'mode', 'duration', 'avg_timbre1',\n",
       "       'avg_timbre2', 'avg_timbre3', 'avg_timbre4', 'avg_timbre5',\n",
       "       'avg_timbre6', 'avg_timbre7', 'avg_timbre8', 'avg_timbre9',\n",
       "       'avg_timbre10', 'avg_timbre11', 'avg_timbre12', 'var_timbre1',\n",
       "       'var_timbre2', 'var_timbre3', 'var_timbre4', 'var_timbre5',\n",
       "       'var_timbre6', 'var_timbre7', 'var_timbre8', 'var_timbre9',\n",
       "       'var_timbre10', 'var_timbre11', 'var_timbre12', 'classic pop and rock',\n",
       "       'classical', 'dance and electronica', 'folk', 'hip-hop',\n",
       "       'jazz and blues', 'metal', 'pop', 'punk', 'soul and reggae'],\n",
       "      dtype='object')"
      ]
     },
     "execution_count": 20,
     "metadata": {},
     "output_type": "execute_result"
    }
   ],
   "source": [
    "df.columns"
   ]
  },
  {
   "cell_type": "code",
   "execution_count": 40,
   "metadata": {},
   "outputs": [
    {
     "data": {
      "text/plain": [
       "0.6692340008402184"
      ]
     },
     "execution_count": 40,
     "metadata": {},
     "output_type": "execute_result"
    }
   ],
   "source": [
    "# this is the 'accuracy' of a model (test on our whole dataset) that would just predict a genre of classic rock for every song in the data set\n",
    "df['classic pop and rock'].value_counts()[1]/df['classic pop and rock'].value_counts()[0]"
   ]
  },
  {
   "cell_type": "code",
   "execution_count": 41,
   "metadata": {},
   "outputs": [
    {
     "data": {
      "text/plain": [
       "Index(['loudness', 'tempo', 'time_signature', 'key', 'mode', 'duration',\n",
       "       'avg_timbre1', 'avg_timbre2', 'avg_timbre3', 'avg_timbre4',\n",
       "       'avg_timbre5', 'avg_timbre6', 'avg_timbre7', 'avg_timbre8',\n",
       "       'avg_timbre9', 'avg_timbre10', 'avg_timbre11', 'avg_timbre12',\n",
       "       'var_timbre1', 'var_timbre2', 'var_timbre3', 'var_timbre4',\n",
       "       'var_timbre5', 'var_timbre6', 'var_timbre7', 'var_timbre8',\n",
       "       'var_timbre9', 'var_timbre10', 'var_timbre11', 'var_timbre12'],\n",
       "      dtype='object')"
      ]
     },
     "execution_count": 41,
     "metadata": {},
     "output_type": "execute_result"
    }
   ],
   "source": [
    "X = df.drop(['genre', 'track_id', 'artist_name', 'title'], axis=1)\n",
    "y = df['classic pop and rock']\n",
    "X = X.drop(genre_columns, axis=1)\n",
    "X.columns"
   ]
  },
  {
   "cell_type": "code",
   "execution_count": 42,
   "metadata": {},
   "outputs": [],
   "source": [
    "classic_x_train, classic_x_test, classic_y_train, classic_y_test = train_test_split(X, y)"
   ]
  },
  {
   "cell_type": "code",
   "execution_count": 43,
   "metadata": {},
   "outputs": [
    {
     "data": {
      "text/plain": [
       "RandomForestClassifier(bootstrap=True, ccp_alpha=0.0, class_weight=None,\n",
       "                       criterion='gini', max_depth=None, max_features='auto',\n",
       "                       max_leaf_nodes=None, max_samples=None,\n",
       "                       min_impurity_decrease=0.0, min_impurity_split=None,\n",
       "                       min_samples_leaf=1, min_samples_split=2,\n",
       "                       min_weight_fraction_leaf=0.0, n_estimators=100,\n",
       "                       n_jobs=None, oob_score=False, random_state=None,\n",
       "                       verbose=0, warm_start=False)"
      ]
     },
     "execution_count": 43,
     "metadata": {},
     "output_type": "execute_result"
    }
   ],
   "source": [
    "rf_classic = RandomForestClassifier()\n",
    "rf_classic.fit(classic_x_train, classic_y_train)"
   ]
  },
  {
   "cell_type": "code",
   "execution_count": 44,
   "metadata": {},
   "outputs": [
    {
     "data": {
      "text/plain": [
       "1.0"
      ]
     },
     "execution_count": 44,
     "metadata": {},
     "output_type": "execute_result"
    }
   ],
   "source": [
    "rf_classic.score(classic_x_train, classic_y_train)"
   ]
  },
  {
   "cell_type": "code",
   "execution_count": 45,
   "metadata": {},
   "outputs": [
    {
     "data": {
      "text/plain": [
       "0.7175167785234899"
      ]
     },
     "execution_count": 45,
     "metadata": {},
     "output_type": "execute_result"
    }
   ],
   "source": [
    "rf_classic.score(classic_x_test, classic_y_test)"
   ]
  },
  {
   "cell_type": "code",
   "execution_count": 46,
   "metadata": {},
   "outputs": [
    {
     "data": {
      "text/plain": [
       "array([0.70369128, 0.7033557 , 0.69697987, 0.69899329, 0.7       ])"
      ]
     },
     "execution_count": 46,
     "metadata": {},
     "output_type": "execute_result"
    }
   ],
   "source": [
    "cross_val_score(rf_classic, classic_x_test, classic_y_test)"
   ]
  },
  {
   "cell_type": "markdown",
   "metadata": {},
   "source": [
    "#### predicting key of release of a song"
   ]
  },
  {
   "cell_type": "code",
   "execution_count": 18,
   "metadata": {},
   "outputs": [
    {
     "data": {
      "text/plain": [
       "Index(['genre', 'track_id', 'artist_name', 'title', 'loudness', 'tempo',\n",
       "       'time_signature', 'key', 'mode', 'duration', 'avg_timbre1',\n",
       "       'avg_timbre2', 'avg_timbre3', 'avg_timbre4', 'avg_timbre5',\n",
       "       'avg_timbre6', 'avg_timbre7', 'avg_timbre8', 'avg_timbre9',\n",
       "       'avg_timbre10', 'avg_timbre11', 'avg_timbre12', 'var_timbre1',\n",
       "       'var_timbre2', 'var_timbre3', 'var_timbre4', 'var_timbre5',\n",
       "       'var_timbre6', 'var_timbre7', 'var_timbre8', 'var_timbre9',\n",
       "       'var_timbre10', 'var_timbre11', 'var_timbre12', 'classic pop and rock',\n",
       "       'classical', 'dance and electronica', 'folk', 'hip-hop',\n",
       "       'jazz and blues', 'metal', 'pop', 'punk', 'soul and reggae'],\n",
       "      dtype='object')"
      ]
     },
     "execution_count": 18,
     "metadata": {},
     "output_type": "execute_result"
    }
   ],
   "source": [
    "df.columns"
   ]
  },
  {
   "cell_type": "code",
   "execution_count": 29,
   "metadata": {},
   "outputs": [],
   "source": [
    "X = df.drop(genre_columns, axis=1)\n",
    "X = X.drop(['track_id', 'title', 'key', 'genre', 'artist_name', 'loudness', 'tempo', 'time_signature', 'mode',\n",
    "       'duration'], axis=1)\n",
    "y =df['key']"
   ]
  },
  {
   "cell_type": "code",
   "execution_count": 30,
   "metadata": {},
   "outputs": [],
   "source": [
    "x_train_key, x_test_key, y_train_key, y_test_key = train_test_split(X, y)"
   ]
  },
  {
   "cell_type": "code",
   "execution_count": 31,
   "metadata": {},
   "outputs": [
    {
     "data": {
      "text/plain": [
       "RandomForestClassifier(bootstrap=True, ccp_alpha=0.0, class_weight=None,\n",
       "                       criterion='gini', max_depth=None, max_features='auto',\n",
       "                       max_leaf_nodes=None, max_samples=None,\n",
       "                       min_impurity_decrease=0.0, min_impurity_split=None,\n",
       "                       min_samples_leaf=1, min_samples_split=2,\n",
       "                       min_weight_fraction_leaf=0.0, n_estimators=100,\n",
       "                       n_jobs=None, oob_score=False, random_state=None,\n",
       "                       verbose=0, warm_start=False)"
      ]
     },
     "execution_count": 31,
     "metadata": {},
     "output_type": "execute_result"
    }
   ],
   "source": [
    "rf_year = RandomForestClassifier()\n",
    "rf_year.fit(x_train_key, y_train_key)"
   ]
  },
  {
   "cell_type": "code",
   "execution_count": 32,
   "metadata": {},
   "outputs": [
    {
     "data": {
      "text/plain": [
       "array([0.14395973, 0.14362416, 0.13791946, 0.14228188, 0.14362416])"
      ]
     },
     "execution_count": 32,
     "metadata": {},
     "output_type": "execute_result"
    }
   ],
   "source": [
    "cross_val_score(rf_year, x_test_key, y_test_key)"
   ]
  },
  {
   "cell_type": "code",
   "execution_count": 47,
   "metadata": {},
   "outputs": [
    {
     "data": {
      "text/plain": [
       "Int64Index([7, 0, 2, 9, 4, 5, 11, 1, 10, 6, 8, 3], dtype='int64')"
      ]
     },
     "execution_count": 47,
     "metadata": {},
     "output_type": "execute_result"
    }
   ],
   "source": [
    "np.array((df['key'].value_counts()))\n",
    "df['key'].value_counts().index"
   ]
  },
  {
   "cell_type": "code",
   "execution_count": 48,
   "metadata": {},
   "outputs": [
    {
     "data": {
      "text/plain": [
       "<matplotlib.axes._subplots.AxesSubplot at 0x1a191ad3c8>"
      ]
     },
     "execution_count": 48,
     "metadata": {},
     "output_type": "execute_result"
    },
    {
     "data": {
      "image/png": "[encoded data removed]",
      "text/plain": [
       "<Figure size 432x288 with 1 Axes>"
      ]
     },
     "metadata": {
      "needs_background": "light"
     },
     "output_type": "display_data"
    }
   ],
   "source": [
    "sns.barplot(df['key'].value_counts().index, np.array((df['key'].value_counts())))"
   ]
  },
  {
   "cell_type": "code",
   "execution_count": 49,
   "metadata": {},
   "outputs": [
    {
     "data": {
      "text/html": [
       "<div>\n",
       "<style scoped>\n",
       "    .dataframe tbody tr th:only-of-type {\n",
       "        vertical-align: middle;\n",
       "    }\n",
       "\n",
       "    .dataframe tbody tr th {\n",
       "        vertical-align: top;\n",
       "    }\n",
       "\n",
       "    .dataframe thead th {\n",
       "        text-align: right;\n",
       "    }\n",
       "</style>\n",
       "<table border=\"1\" class=\"dataframe\">\n",
       "  <thead>\n",
       "    <tr style=\"text-align: right;\">\n",
       "      <th></th>\n",
       "      <th>track_id</th>\n",
       "      <th>artist_name</th>\n",
       "      <th>title</th>\n",
       "      <th>loudness</th>\n",
       "      <th>tempo</th>\n",
       "      <th>time_signature</th>\n",
       "      <th>key</th>\n",
       "      <th>mode</th>\n",
       "      <th>duration</th>\n",
       "      <th>song_hotttnesss</th>\n",
       "      <th>year</th>\n",
       "    </tr>\n",
       "  </thead>\n",
       "  <tbody>\n",
       "    <tr>\n",
       "      <td>0</td>\n",
       "      <td>TRAAAAW128F429D538</td>\n",
       "      <td>Casual</td>\n",
       "      <td>I Didn't Mean To</td>\n",
       "      <td>-11.197</td>\n",
       "      <td>92.198</td>\n",
       "      <td>4</td>\n",
       "      <td>1</td>\n",
       "      <td>0</td>\n",
       "      <td>218.93179</td>\n",
       "      <td>0.602120</td>\n",
       "      <td>0</td>\n",
       "    </tr>\n",
       "    <tr>\n",
       "      <td>1</td>\n",
       "      <td>TRAAABD128F429CF47</td>\n",
       "      <td>The Box Tops</td>\n",
       "      <td>Soul Deep</td>\n",
       "      <td>-9.843</td>\n",
       "      <td>121.274</td>\n",
       "      <td>4</td>\n",
       "      <td>6</td>\n",
       "      <td>0</td>\n",
       "      <td>148.03546</td>\n",
       "      <td>NaN</td>\n",
       "      <td>1969</td>\n",
       "    </tr>\n",
       "    <tr>\n",
       "      <td>2</td>\n",
       "      <td>TRAAADZ128F9348C2E</td>\n",
       "      <td>Sonora Santanera</td>\n",
       "      <td>Amor De Cabaret</td>\n",
       "      <td>-9.689</td>\n",
       "      <td>100.070</td>\n",
       "      <td>1</td>\n",
       "      <td>8</td>\n",
       "      <td>1</td>\n",
       "      <td>177.47546</td>\n",
       "      <td>NaN</td>\n",
       "      <td>0</td>\n",
       "    </tr>\n",
       "    <tr>\n",
       "      <td>3</td>\n",
       "      <td>TRAAAEF128F4273421</td>\n",
       "      <td>Adam Ant</td>\n",
       "      <td>Something Girls</td>\n",
       "      <td>-9.013</td>\n",
       "      <td>119.293</td>\n",
       "      <td>4</td>\n",
       "      <td>0</td>\n",
       "      <td>1</td>\n",
       "      <td>233.40363</td>\n",
       "      <td>NaN</td>\n",
       "      <td>1982</td>\n",
       "    </tr>\n",
       "    <tr>\n",
       "      <td>4</td>\n",
       "      <td>TRAAAFD128F92F423A</td>\n",
       "      <td>Gob</td>\n",
       "      <td>Face the Ashes</td>\n",
       "      <td>-4.501</td>\n",
       "      <td>129.738</td>\n",
       "      <td>4</td>\n",
       "      <td>2</td>\n",
       "      <td>1</td>\n",
       "      <td>209.60608</td>\n",
       "      <td>0.604501</td>\n",
       "      <td>2007</td>\n",
       "    </tr>\n",
       "    <tr>\n",
       "      <td>...</td>\n",
       "      <td>...</td>\n",
       "      <td>...</td>\n",
       "      <td>...</td>\n",
       "      <td>...</td>\n",
       "      <td>...</td>\n",
       "      <td>...</td>\n",
       "      <td>...</td>\n",
       "      <td>...</td>\n",
       "      <td>...</td>\n",
       "      <td>...</td>\n",
       "      <td>...</td>\n",
       "    </tr>\n",
       "    <tr>\n",
       "      <td>23437</td>\n",
       "      <td>TRBIAVP12903CEDA19</td>\n",
       "      <td>Joe Bonamassa</td>\n",
       "      <td>I Know A Place</td>\n",
       "      <td>-7.355</td>\n",
       "      <td>75.064</td>\n",
       "      <td>3</td>\n",
       "      <td>7</td>\n",
       "      <td>1</td>\n",
       "      <td>258.74240</td>\n",
       "      <td>0.806400</td>\n",
       "      <td>2010</td>\n",
       "    </tr>\n",
       "    <tr>\n",
       "      <td>23438</td>\n",
       "      <td>TRBIAVU128EF3493BA</td>\n",
       "      <td>Asleep At The Wheel</td>\n",
       "      <td>The Letter That Johnny Walker Read</td>\n",
       "      <td>-9.020</td>\n",
       "      <td>122.166</td>\n",
       "      <td>4</td>\n",
       "      <td>11</td>\n",
       "      <td>1</td>\n",
       "      <td>238.21016</td>\n",
       "      <td>0.580704</td>\n",
       "      <td>2002</td>\n",
       "    </tr>\n",
       "    <tr>\n",
       "      <td>23439</td>\n",
       "      <td>TRBIBAQ128F93279F5</td>\n",
       "      <td>Bad Company</td>\n",
       "      <td>Crazy Circles</td>\n",
       "      <td>-8.958</td>\n",
       "      <td>194.283</td>\n",
       "      <td>7</td>\n",
       "      <td>0</td>\n",
       "      <td>1</td>\n",
       "      <td>211.14730</td>\n",
       "      <td>0.552548</td>\n",
       "      <td>1979</td>\n",
       "    </tr>\n",
       "    <tr>\n",
       "      <td>23440</td>\n",
       "      <td>TRBIBFY128F932C0E3</td>\n",
       "      <td>Nichols</td>\n",
       "      <td>Fica ma mi</td>\n",
       "      <td>-5.609</td>\n",
       "      <td>167.941</td>\n",
       "      <td>4</td>\n",
       "      <td>0</td>\n",
       "      <td>0</td>\n",
       "      <td>214.46485</td>\n",
       "      <td>NaN</td>\n",
       "      <td>0</td>\n",
       "    </tr>\n",
       "    <tr>\n",
       "      <td>23441</td>\n",
       "      <td>TRBIBGN128F42ADC66</td>\n",
       "      <td>Phantom Planet</td>\n",
       "      <td>The Meantime</td>\n",
       "      <td>-4.507</td>\n",
       "      <td>122.488</td>\n",
       "      <td>3</td>\n",
       "      <td>2</td>\n",
       "      <td>1</td>\n",
       "      <td>209.34485</td>\n",
       "      <td>NaN</td>\n",
       "      <td>2004</td>\n",
       "    </tr>\n",
       "  </tbody>\n",
       "</table>\n",
       "<p>23442 rows × 11 columns</p>\n",
       "</div>"
      ],
      "text/plain": [
       "                 track_id          artist_name  \\\n",
       "0      TRAAAAW128F429D538               Casual   \n",
       "1      TRAAABD128F429CF47         The Box Tops   \n",
       "2      TRAAADZ128F9348C2E     Sonora Santanera   \n",
       "3      TRAAAEF128F4273421             Adam Ant   \n",
       "4      TRAAAFD128F92F423A                  Gob   \n",
       "...                   ...                  ...   \n",
       "23437  TRBIAVP12903CEDA19        Joe Bonamassa   \n",
       "23438  TRBIAVU128EF3493BA  Asleep At The Wheel   \n",
       "23439  TRBIBAQ128F93279F5          Bad Company   \n",
       "23440  TRBIBFY128F932C0E3              Nichols   \n",
       "23441  TRBIBGN128F42ADC66       Phantom Planet   \n",
       "\n",
       "                                    title  loudness    tempo  time_signature  \\\n",
       "0                        I Didn't Mean To   -11.197   92.198               4   \n",
       "1                               Soul Deep    -9.843  121.274               4   \n",
       "2                         Amor De Cabaret    -9.689  100.070               1   \n",
       "3                         Something Girls    -9.013  119.293               4   \n",
       "4                          Face the Ashes    -4.501  129.738               4   \n",
       "...                                   ...       ...      ...             ...   \n",
       "23437                      I Know A Place    -7.355   75.064               3   \n",
       "23438  The Letter That Johnny Walker Read    -9.020  122.166               4   \n",
       "23439                       Crazy Circles    -8.958  194.283               7   \n",
       "23440                          Fica ma mi    -5.609  167.941               4   \n",
       "23441                        The Meantime    -4.507  122.488               3   \n",
       "\n",
       "       key  mode   duration  song_hotttnesss  year  \n",
       "0        1     0  218.93179         0.602120     0  \n",
       "1        6     0  148.03546              NaN  1969  \n",
       "2        8     1  177.47546              NaN     0  \n",
       "3        0     1  233.40363              NaN  1982  \n",
       "4        2     1  209.60608         0.604501  2007  \n",
       "...    ...   ...        ...              ...   ...  \n",
       "23437    7     1  258.74240         0.806400  2010  \n",
       "23438   11     1  238.21016         0.580704  2002  \n",
       "23439    0     1  211.14730         0.552548  1979  \n",
       "23440    0     0  214.46485              NaN     0  \n",
       "23441    2     1  209.34485              NaN  2004  \n",
       "\n",
       "[23442 rows x 11 columns]"
      ]
     },
     "execution_count": 49,
     "metadata": {},
     "output_type": "execute_result"
    }
   ],
   "source": [
    "pd.read_csv('https://raw.githubusercontent.com/thomasSve/Million-Song-Dataset-Analysis/master/datasets/msd_simple.csv')"
   ]
  },
  {
   "cell_type": "code",
   "execution_count": null,
   "metadata": {},
   "outputs": [],
   "source": []
  }
 ],
 "metadata": {
  "kernelspec": {
   "display_name": "Python [conda env:learn-env] *",
   "language": "python",
   "name": "conda-env-learn-env-py"
  },
  "language_info": {
   "codemirror_mode": {
    "name": "ipython",
    "version": 3
   },
   "file_extension": ".py",
   "mimetype": "text/x-python",
   "name": "python",
   "nbconvert_exporter": "python",
   "pygments_lexer": "ipython3",
   "version": "3.6.9"
  }
 },
 "nbformat": 4,
 "nbformat_minor": 4
}
